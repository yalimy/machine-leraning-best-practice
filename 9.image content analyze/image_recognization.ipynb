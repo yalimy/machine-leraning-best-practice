{
 "cells": [
  {
   "cell_type": "code",
   "execution_count": null,
   "metadata": {},
   "outputs": [],
   "source": [
    "'''\n",
    "计算机视觉的终极目标：用计算机准确的模拟人类的视觉系统，以处理、分析、理解视觉数据\n",
    "\n",
    "低级视觉分析领域：像素（图像）处理，例如形状、流数据\n",
    "中高级视觉分析领域：物体识别、3D建模、运动分析等，基于活动和意图提取出对视觉数据的描述\n",
    "\n",
    "高层次的分析，往往以来低层次分析的输出结果\n",
    "'''"
   ]
  },
  {
   "cell_type": "code",
   "execution_count": 2,
   "metadata": {},
   "outputs": [
    {
     "data": {
      "text/plain": [
       "32"
      ]
     },
     "execution_count": 2,
     "metadata": {},
     "output_type": "execute_result"
    }
   ],
   "source": [
    "# OpenCV 操作图像\n",
    "import sys\n",
    "import cv2\n",
    "import numpy as np\n",
    "\n",
    "# load image\n",
    "img = cv2.imread('forest.jpg')\n",
    "\n",
    "# show image\n",
    "cv2.imshow('Original', img)\n",
    "\n",
    "# crop image\n",
    "h, w = img.shape[:2]\n",
    "start_row, end_row = int(0.21*h), int(0.73*h)\n",
    "start_col, end_col = int(0.37*w), int(0.92*w)\n",
    "\n",
    "# Numpy 裁剪图像\n",
    "img_cropped = img[start_row:end_row, start_col:end_col]\n",
    "cv2.imshow('Cropped', img_cropped)\n",
    "\n",
    "# 在长、宽两个维度上，将图像调整为原始大小的1.3倍\n",
    "scaling_factor = 1.3\n",
    "img_scaled = cv2.resize(img, None, fx=scaling_factor, fy=scaling_factor, \n",
    "                        interpolation=cv2.INTER_LINEAR)\n",
    "cv2.imshow('Uniform resizing', img_scaled)\n",
    "\n",
    "# 将图像仅在某个维度上resize\n",
    "img_scaled = cv2.resize(img, (250,400), interpolation=cv2.INTER_AREA)\n",
    "cv2.imshow('Skewed resizing', img_scaled)\n",
    "\n",
    "# save and output\n",
    "output_file = 'forest_cropped.jpg'\n",
    "cv2.imwrite(output_file, img_cropped)\n",
    "\n",
    "# waitKey 可以保持图像，直到按下键盘的任意键退出\n",
    "cv2.waitKey()\n"
   ]
  },
  {
   "cell_type": "code",
   "execution_count": 2,
   "metadata": {},
   "outputs": [
    {
     "data": {
      "text/plain": [
       "32"
      ]
     },
     "execution_count": 2,
     "metadata": {},
     "output_type": "execute_result"
    }
   ],
   "source": [
    "# 用不同的边检测器检测输入图像的边\n",
    "import cv2\n",
    "img = cv2.imread('chair.jpg', cv2.IMREAD_GRAYSCALE)\n",
    "h, w = img.shape\n",
    "\n",
    "# Sobel filter 边检测器：用 3*3 内核检测水平和垂直边\n",
    "sobel_horizontal = cv2.Sobel(img, cv2.CV_64F, 1, 0, ksize=5)\n",
    "sobel_vertical = cv2.Sobel(img, cv2.CV_64F, 0, 1, ksize=5)\n",
    "\n",
    "# Laplacian edge detector: 可以检测两个方向上的边\n",
    "laplacian = cv2.Laplacian(img, cv2.CV_64F)\n",
    "\n",
    "# Canny edge detector : 解决噪声问题上优于Laplacian\n",
    "canny = cv2.Canny(img, 50, 240)\n",
    "\n",
    "# show\n",
    "cv2.imshow('Original', img)\n",
    "cv2.imshow('Sobel horizontal', sobel_horizontal)\n",
    "cv2.imshow('Sobel vertical', sobel_vertical)\n",
    "cv2.imshow('Laplacian', laplacian)\n",
    "cv2.imshow('Canny', canny)\n",
    "\n",
    "cv2.waitKey()"
   ]
  },
  {
   "cell_type": "code",
   "execution_count": 3,
   "metadata": {},
   "outputs": [
    {
     "data": {
      "text/plain": [
       "-1"
      ]
     },
     "execution_count": 3,
     "metadata": {},
     "output_type": "execute_result"
    }
   ],
   "source": [
    "# 直方图均衡化：指修改图像的像素，以增强图像的对比强度的过程\n",
    "import cv2\n",
    "import numpy as np\n",
    "\n",
    "img = cv2.imread('sunrise.jpg')\n",
    "\n",
    "# 将图像转为灰度\n",
    "img_gray = cv2.cvtColor(img, cv2.COLOR_BGR2GRAY)\n",
    "cv2.imshow('Input grayscale image',img_gray)\n",
    "\n",
    "# 均衡灰度图像的直方图\n",
    "img_gray_histeq = cv2.equalizeHist(img_gray)\n",
    "cv2.imshow('Histogram equalized - grayscale', img_gray_histeq)\n",
    "\n",
    "# 均衡彩色图像的直方图：OpenCV BGR -> YUV -> RGB [直方图均衡化仅适用于亮度通道，一个RGB图像由3个颜色通道组成]\n",
    "# 均衡彩色直方图\n",
    "img_yuv = cv2.cvtColor(img, cv2.COLOR_BGR2YUV)\n",
    "# 均衡X,Y通道,每次只能均衡一个\n",
    "img_yuv[:,0,:] = cv2.equalizeHist(img_yuv[:,0,:])\n",
    "img_yuv[:,:,0] = cv2.equalizeHist(img_yuv[:,:,0])\n",
    "# 转回BGR\n",
    "img_histeq = cv2.cvtColor(img_yuv, cv2.COLOR_YUV2BGR)\n",
    "\n",
    "# show\n",
    "cv2.imshow('Input color imgae',img)\n",
    "cv2.imshow('Histogram equalized - color', img_histeq)\n",
    "\n",
    "cv2.waitKey()"
   ]
  },
  {
   "cell_type": "code",
   "execution_count": 3,
   "metadata": {},
   "outputs": [
    {
     "data": {
      "text/plain": [
       "-1"
      ]
     },
     "execution_count": 3,
     "metadata": {},
     "output_type": "execute_result"
    }
   ],
   "source": [
    "# 检测棱角：识别图像中的突出点特征\n",
    "import cv2\n",
    "import numpy as np\n",
    "\n",
    "img = cv2.imread('box.png')\n",
    "cv2.imshow('Input image',img)\n",
    "\n",
    "# 将图像转为灰度和浮点值，浮点值用于棱角检测\n",
    "img_gray = cv2.cvtColor(img, cv2.COLOR_BGR2GRAY)\n",
    "img_gray = np.float32(img_gray)\n",
    "\n",
    "# Harris corner detector\n",
    "img_harris = cv2.cornerHarris(img_gray, 7, 5, 0.04)\n",
    "\n",
    "# 放大图像，以标记棱角\n",
    "img_harris = cv2.dilate(img_harris, None)\n",
    "\n",
    "# 要点个数的阈值\n",
    "img[img_harris > 0.01 * img_harris.max()] = [0, 0, 0]\n",
    "\n",
    "# show\n",
    "cv2.imshow(\"Harris Corners\", img)\n",
    "\n",
    "cv2.waitKey()"
   ]
  },
  {
   "cell_type": "code",
   "execution_count": 5,
   "metadata": {},
   "outputs": [
    {
     "ename": "AttributeError",
     "evalue": "module 'cv2' has no attribute 'xfeatures2d'",
     "output_type": "error",
     "traceback": [
      "\u001b[1;31m---------------------------------------------------------------------------\u001b[0m",
      "\u001b[1;31mAttributeError\u001b[0m                            Traceback (most recent call last)",
      "\u001b[1;32m<ipython-input-5-a3a864338d27>\u001b[0m in \u001b[0;36m<module>\u001b[1;34m\u001b[0m\n\u001b[0;32m      7\u001b[0m \u001b[1;33m\u001b[0m\u001b[0m\n\u001b[0;32m      8\u001b[0m \u001b[1;31m# SIFT\u001b[0m\u001b[1;33m\u001b[0m\u001b[1;33m\u001b[0m\u001b[1;33m\u001b[0m\u001b[0m\n\u001b[1;32m----> 9\u001b[1;33m \u001b[0msift\u001b[0m \u001b[1;33m=\u001b[0m \u001b[0mcv2\u001b[0m\u001b[1;33m.\u001b[0m\u001b[0mxfeatures2d\u001b[0m\u001b[1;33m.\u001b[0m\u001b[0mSIFT_create\u001b[0m\u001b[1;33m(\u001b[0m\u001b[1;33m)\u001b[0m\u001b[1;33m\u001b[0m\u001b[1;33m\u001b[0m\u001b[0m\n\u001b[0m\u001b[0;32m     10\u001b[0m \u001b[0mkeypoints\u001b[0m \u001b[1;33m=\u001b[0m \u001b[0msift\u001b[0m\u001b[1;33m.\u001b[0m\u001b[0mdetect\u001b[0m\u001b[1;33m(\u001b[0m\u001b[0mimg_gray\u001b[0m\u001b[1;33m,\u001b[0m \u001b[1;32mNone\u001b[0m\u001b[1;33m)\u001b[0m\u001b[1;33m\u001b[0m\u001b[1;33m\u001b[0m\u001b[0m\n\u001b[0;32m     11\u001b[0m \u001b[1;33m\u001b[0m\u001b[0m\n",
      "\u001b[1;31mAttributeError\u001b[0m: module 'cv2' has no attribute 'xfeatures2d'"
     ]
    }
   ],
   "source": [
    "# 检测 SIFT 特征点 ：(SIFT 尺度不变特征变换)\n",
    "import cv2\n",
    "import numpy as np\n",
    "\n",
    "img = cv2.imread('table.jpg')\n",
    "img_gray = cv2.cvtColor(img, cv2.COLOR_BGR2GRAY)\n",
    "\n",
    "# SIFT\n",
    "sift = cv2.xfeatures2d.SIFT_create()\n",
    "keypoints = sift.detect(img_gray, None)\n",
    "\n",
    "# SIFT 指出突出点不是特征，但是，SIFT可以作为有效的特征提取器\n",
    "img_sift = np.copy(img)\n",
    "cv2.drawKeypoints(img, keypoints, img_sift, flags=cv2.DRAW_MATCHES_FLAGS_DRAW_RICH_KEYPOINTS)\n",
    "\n",
    "# show\n",
    "cv2.imshow('Input image',img)\n",
    "cv2.imshow('SIFT image',img_sift)\n",
    "\n",
    "cv2.waitKey()"
   ]
  },
  {
   "cell_type": "code",
   "execution_count": null,
   "metadata": {},
   "outputs": [],
   "source": [
    "# 创建 Star 特征检测器：用在SIFT之前，以便层叠不同的模块获得最佳性能\n",
    "import cv2\n",
    "import numpy as np\n",
    "\n",
    "class StarFeatureDetector(object):\n",
    "    def __init__(self):\n",
    "        self.detector = cv2.xfeatures2d.StarDetector_create()\n",
    "        \n",
    "    def detect(self, img):\n",
    "        return self.detector.detect(img)\n",
    "\n",
    "img = cv2.imread('')\n",
    "\n",
    "# 图像转为灰度图\n",
    "img_gray = cv2.cvtColor(img, cv2.COLOR_BGR2GRAY)\n",
    "\n",
    "# 特征检测\n",
    "keypoints = StarFeatureDetector().detect(img)\n",
    "\n",
    "cv2.drawKeypoints(img, keypoints, img, flags=cv2.DRAW_MATCHES_FLAGS_DRAW_RICH_KEYPOINTS)\n",
    "\n",
    "cv2.imshow('Star features', img)\n",
    "cv2.waitKey()"
   ]
  }
 ],
 "metadata": {
  "kernelspec": {
   "display_name": "Python 3",
   "language": "python",
   "name": "python3"
  },
  "language_info": {
   "codemirror_mode": {
    "name": "ipython",
    "version": 3
   },
   "file_extension": ".py",
   "mimetype": "text/x-python",
   "name": "python",
   "nbconvert_exporter": "python",
   "pygments_lexer": "ipython3",
   "version": "3.8.5"
  }
 },
 "nbformat": 4,
 "nbformat_minor": 4
}
