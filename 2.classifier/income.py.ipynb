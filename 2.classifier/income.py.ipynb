{
 "cells": [
  {
   "cell_type": "code",
   "execution_count": 3,
   "metadata": {},
   "outputs": [
    {
     "name": "stdout",
     "output_type": "stream",
     "text": [
      "\n",
      "F1 Score: 78.42 %\n"
     ]
    }
   ],
   "source": [
    "# datasets are mixture of numbers and strings. So we cannot use a label encoder.\n",
    "# using Naive Bayes Classifier\n",
    "import numpy as np\n",
    "from sklearn import preprocessing\n",
    "from sklearn.naive_bayes import GaussianNB\n",
    "from sklearn.model_selection import train_test_split,cross_val_score\n",
    "\n",
    "# load datasets\n",
    "input_file = 'adult.data.txt'\n",
    "X,Y = [],[]\n",
    "count_lessthan50k ,count_morethan50k = 0, 0\n",
    "num_images_threshold = 10000\n",
    "\n",
    "with open(input_file,'r') as f:\n",
    "    for line in f.readlines():\n",
    "        if '?' in line:\n",
    "            continue\n",
    "        data = line[:-1].split(',')\n",
    "        if data[-1] == '<=50K' or count_lessthan50k < num_images_threshold:\n",
    "            X.append(data)\n",
    "            count_lessthan50k += 1\n",
    "        elif data[-1] == '>50K' and count_morethan50k < num_images_threshold:\n",
    "            X.append(data)\n",
    "            count_morethan50k += 1\n",
    "        if count_lessthan50k >= num_images_threshold and count_morethan50k >= num_images_threshold:\n",
    "            break\n",
    "\n",
    "X = np.array(X)\n",
    "\n",
    "# convert string data to numerical data\n",
    "label_encoder = []\n",
    "X_encoded = np.empty(X.shape)\n",
    "for i,item in enumerate(X[0]):\n",
    "    if item.isdigit():\n",
    "        X_encoded[:,i] = X[:,i]\n",
    "    else:\n",
    "        label_encoder.append(preprocessing.LabelEncoder())\n",
    "        X_encoded[:,i] = label_encoder[-1].fit_transform(X[:,i])\n",
    "\n",
    "X = X_encoded[:,:-1].astype(int)\n",
    "Y = X_encoded[:,-1].astype(int)\n",
    "\n",
    "# train the classifier\n",
    "classifier_gaussiannb = GaussianNB()\n",
    "classifier_gaussiannb.fit(X,Y)\n",
    "\n",
    "# cross validation\n",
    "X_train, X_test, Y_train, Y_test = train_test_split(X, Y, test_size = 0.25, random_state = 5)\n",
    "classifier_gaussiannb = GaussianNB()\n",
    "classifier_gaussiannb.fit(X_train, Y_train)\n",
    "Y_test_pred = classifier_gaussiannb.predict(X_test)\n",
    "\n",
    "# extract performance metrics\n",
    "f1 = cross_val_score(classifier_gaussiannb, X, Y, scoring=\"f1_weighted\", cv=5)\n",
    "print(\"\\nF1 Score:\",round(100*f1.mean(),2),\"%\")\n",
    "\n"
   ]
  },
  {
   "cell_type": "code",
   "execution_count": 22,
   "metadata": {},
   "outputs": [
    {
     "ename": "TypeError",
     "evalue": "int() argument must be a string, a bytes-like object or a number, not 'LabelEncoder'",
     "output_type": "error",
     "traceback": [
      "\u001b[1;31m---------------------------------------------------------------------------\u001b[0m",
      "\u001b[1;31mTypeError\u001b[0m                                 Traceback (most recent call last)",
      "\u001b[1;32m<ipython-input-22-120922608b75>\u001b[0m in \u001b[0;36m<module>\u001b[1;34m\u001b[0m\n\u001b[0;32m     16\u001b[0m     \u001b[1;32melse\u001b[0m\u001b[1;33m:\u001b[0m\u001b[1;33m\u001b[0m\u001b[1;33m\u001b[0m\u001b[0m\n\u001b[0;32m     17\u001b[0m         \u001b[0mlabel_encoder\u001b[0m\u001b[1;33m.\u001b[0m\u001b[0mappend\u001b[0m\u001b[1;33m(\u001b[0m\u001b[0mpreprocessing\u001b[0m\u001b[1;33m.\u001b[0m\u001b[0mLabelEncoder\u001b[0m\u001b[1;33m(\u001b[0m\u001b[1;33m)\u001b[0m\u001b[1;33m)\u001b[0m\u001b[1;33m\u001b[0m\u001b[1;33m\u001b[0m\u001b[0m\n\u001b[1;32m---> 18\u001b[1;33m         \u001b[0minput_data_encoded\u001b[0m\u001b[1;33m[\u001b[0m\u001b[0mi\u001b[0m\u001b[1;33m]\u001b[0m \u001b[1;33m=\u001b[0m \u001b[0mint\u001b[0m\u001b[1;33m(\u001b[0m\u001b[0mlabel_encoder\u001b[0m\u001b[1;33m[\u001b[0m\u001b[0mcount\u001b[0m\u001b[1;33m]\u001b[0m\u001b[1;33m.\u001b[0m\u001b[0mfit\u001b[0m\u001b[1;33m(\u001b[0m\u001b[0mX\u001b[0m\u001b[1;33m[\u001b[0m\u001b[1;33m:\u001b[0m\u001b[1;33m,\u001b[0m\u001b[0mi\u001b[0m\u001b[1;33m]\u001b[0m\u001b[1;33m)\u001b[0m\u001b[1;33m)\u001b[0m\u001b[1;33m\u001b[0m\u001b[1;33m\u001b[0m\u001b[0m\n\u001b[0m\u001b[0;32m     19\u001b[0m         \u001b[1;31m#input_data_encoded[i] = label_encoder[count].transform(np.array(input_data))\u001b[0m\u001b[1;33m\u001b[0m\u001b[1;33m\u001b[0m\u001b[1;33m\u001b[0m\u001b[0m\n\u001b[0;32m     20\u001b[0m         \u001b[0mcount\u001b[0m \u001b[1;33m+=\u001b[0m \u001b[1;36m1\u001b[0m\u001b[1;33m\u001b[0m\u001b[1;33m\u001b[0m\u001b[0m\n",
      "\u001b[1;31mTypeError\u001b[0m: int() argument must be a string, a bytes-like object or a number, not 'LabelEncoder'"
     ]
    }
   ],
   "source": [
    "''' 没搞定 label_encoder\n",
    "label_encoder = preprocessing.LabelEncoder()\n",
    "label_encoder.fit(input_data)\n",
    "for i,item in enumerate(input_data):\n",
    "    print(i, list(label_encoder.transform(input_data))[i])\n",
    "print(input_data_encoded)\n",
    "'''\n",
    "\n",
    "# how to classify a single datapoint\n",
    "input_data = ['39', 'State-gov', '77516', 'Bachelors', '13','Never-married', 'Adm-clerical', 'Not-in-family', 'White', 'Male','2174', '0', '40', 'United-States']\n",
    "count = 0\n",
    "input_data_encoded = [-1] * len(input_data)\n",
    "for i,item in enumerate(input_data):\n",
    "    if item.isdigit():\n",
    "        input_data_encoded[i] = int(input_data[i])\n",
    "    else:\n",
    "        label_encoder.append(preprocessing.LabelEncoder())\n",
    "        input_data_encoded[i] = int(label_encoder[count].fit(X[:,i]))\n",
    "        #input_data_encoded[i] = label_encoder[count].transform(np.array(input_data))\n",
    "        count += 1\n",
    "input_data_encoded = np.array(input_data_encoded)\n",
    "\n",
    "output_class = classifier_gaussiannb.predict(input_data_encoded)\n",
    "print(label_encoder[-1].inverse_transform(output_class)[0])"
   ]
  },
  {
   "cell_type": "code",
   "execution_count": null,
   "metadata": {},
   "outputs": [],
   "source": []
  }
 ],
 "metadata": {
  "kernelspec": {
   "display_name": "Python 3",
   "language": "python",
   "name": "python3"
  },
  "language_info": {
   "codemirror_mode": {
    "name": "ipython",
    "version": 3
   },
   "file_extension": ".py",
   "mimetype": "text/x-python",
   "name": "python",
   "nbconvert_exporter": "python",
   "pygments_lexer": "ipython3",
   "version": "3.8.5"
  }
 },
 "nbformat": 4,
 "nbformat_minor": 4
}
