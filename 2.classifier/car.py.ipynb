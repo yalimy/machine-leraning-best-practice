{
 "cells": [
  {
   "cell_type": "code",
   "execution_count": 19,
   "metadata": {},
   "outputs": [
    {
     "name": "stderr",
     "output_type": "stream",
     "text": [
      "C:\\Users\\jichao1.wang\\Anaconda3\\lib\\site-packages\\sklearn\\model_selection\\_split.py:670: UserWarning: The least populated class in y has only 1 members, which is less than n_splits=2.\n",
      "  warnings.warn((\"The least populated class in y has only %d\"\n"
     ]
    },
    {
     "name": "stdout",
     "output_type": "stream",
     "text": [
      "\n",
      "Accuracy  72.45 %\n"
     ]
    }
   ],
   "source": [
    "# random forest classifier for car classfication\n",
    "import numpy as np\n",
    "from sklearn import preprocessing\n",
    "from sklearn.ensemble import RandomForestClassifier\n",
    "\n",
    "# load data\n",
    "input_file = 'car.data.txt'\n",
    "X = []\n",
    "count = 0\n",
    "\n",
    "with open(input_file,'r') as f:\n",
    "    for line in f.readlines():\n",
    "        data = line[:-1].split(',')\n",
    "        X.append(data)\n",
    "\n",
    "X = np.array(X)\n",
    "\n",
    "\n",
    "# label encoding : convert string to numerical\n",
    "'''\n",
    "# X[:,i]表示每一行的第i列值，组成的列表\n",
    "for i in range(len(X[0])):\n",
    "    print(i,' -> ',X[:,i],len(X[:,i]))\n",
    "    \n",
    "# X.shape = (rows,columns)\n",
    "print(type(X.shape))\n",
    "\n",
    "# np.empty 根据指定的行列，生成新的数组\n",
    "print(np.empty(X.shape))\n",
    "'''\n",
    "\n",
    "label_encoder = []\n",
    "X_encoded = np.empty(X.shape)\n",
    "for i,item in enumerate(X[0]):\n",
    "    label_encoder.append(preprocessing.LabelEncoder())\n",
    "    # print(i,label_encoder[-1].fit_transform(X[:,i]))\n",
    "    X_encoded[:,i] = label_encoder[-1].fit_transform(X[:,i])\n",
    "    \n",
    "X = X_encoded[:,:-1].astype(int)\n",
    "Y = X_encoded[:,-1].astype(int)\n",
    "\n",
    "# Build a Random Forest Classifier\n",
    "params = {'n_estimators': 200, 'max_depth': 8, 'random_state': 7}\n",
    "classifier = RandomForestClassifier(**params)\n",
    "classifier.fit(X,Y)\n",
    "\n",
    "# validation\n",
    "from sklearn.model_selection import cross_val_score\n",
    "accuracy = cross_val_score(classifier,X,Y,scoring='accuracy', cv=2)\n",
    "print('\\nAccuracy ',round(100*accuracy.mean(),2),\"%\")\n"
   ]
  },
  {
   "cell_type": "code",
   "execution_count": 25,
   "metadata": {},
   "outputs": [
    {
     "ename": "ValueError",
     "evalue": "y contains previously unseen labels: ['small']",
     "output_type": "error",
     "traceback": [
      "\u001b[1;31m---------------------------------------------------------------------------\u001b[0m",
      "\u001b[1;31mValueError\u001b[0m                                Traceback (most recent call last)",
      "\u001b[1;32m<ipython-input-25-02b3a3c58b30>\u001b[0m in \u001b[0;36m<module>\u001b[1;34m\u001b[0m\n\u001b[0;32m     37\u001b[0m         \u001b[0minput_data_encoded\u001b[0m\u001b[1;33m[\u001b[0m\u001b[0mi\u001b[0m\u001b[1;33m]\u001b[0m \u001b[1;33m=\u001b[0m \u001b[0mint\u001b[0m\u001b[1;33m(\u001b[0m\u001b[0minput_data\u001b[0m\u001b[1;33m[\u001b[0m\u001b[0mi\u001b[0m\u001b[1;33m]\u001b[0m\u001b[1;33m)\u001b[0m\u001b[1;33m\u001b[0m\u001b[1;33m\u001b[0m\u001b[0m\n\u001b[0;32m     38\u001b[0m     \u001b[1;32melse\u001b[0m\u001b[1;33m:\u001b[0m\u001b[1;33m\u001b[0m\u001b[1;33m\u001b[0m\u001b[0m\n\u001b[1;32m---> 39\u001b[1;33m         \u001b[0minput_data_encoded\u001b[0m\u001b[1;33m[\u001b[0m\u001b[0mi\u001b[0m\u001b[1;33m]\u001b[0m \u001b[1;33m=\u001b[0m \u001b[0mint\u001b[0m\u001b[1;33m(\u001b[0m\u001b[0mlabel_encoder\u001b[0m\u001b[1;33m[\u001b[0m\u001b[0mcount\u001b[0m\u001b[1;33m]\u001b[0m\u001b[1;33m.\u001b[0m\u001b[0mtransform\u001b[0m\u001b[1;33m(\u001b[0m\u001b[1;33m[\u001b[0m\u001b[0minput_data\u001b[0m\u001b[1;33m[\u001b[0m\u001b[0mi\u001b[0m\u001b[1;33m]\u001b[0m\u001b[1;33m]\u001b[0m\u001b[1;33m)\u001b[0m\u001b[1;33m)\u001b[0m\u001b[1;33m\u001b[0m\u001b[1;33m\u001b[0m\u001b[0m\n\u001b[0m\u001b[0;32m     40\u001b[0m         \u001b[0mcount\u001b[0m \u001b[1;33m+=\u001b[0m \u001b[1;36m1\u001b[0m\u001b[1;33m\u001b[0m\u001b[1;33m\u001b[0m\u001b[0m\n\u001b[0;32m     41\u001b[0m \u001b[1;33m\u001b[0m\u001b[0m\n",
      "\u001b[1;32m~\\Anaconda3\\lib\\site-packages\\sklearn\\preprocessing\\_label.py\u001b[0m in \u001b[0;36mtransform\u001b[1;34m(self, y)\u001b[0m\n\u001b[0;32m    275\u001b[0m             \u001b[1;32mreturn\u001b[0m \u001b[0mnp\u001b[0m\u001b[1;33m.\u001b[0m\u001b[0marray\u001b[0m\u001b[1;33m(\u001b[0m\u001b[1;33m[\u001b[0m\u001b[1;33m]\u001b[0m\u001b[1;33m)\u001b[0m\u001b[1;33m\u001b[0m\u001b[1;33m\u001b[0m\u001b[0m\n\u001b[0;32m    276\u001b[0m \u001b[1;33m\u001b[0m\u001b[0m\n\u001b[1;32m--> 277\u001b[1;33m         \u001b[0m_\u001b[0m\u001b[1;33m,\u001b[0m \u001b[0my\u001b[0m \u001b[1;33m=\u001b[0m \u001b[0m_encode\u001b[0m\u001b[1;33m(\u001b[0m\u001b[0my\u001b[0m\u001b[1;33m,\u001b[0m \u001b[0muniques\u001b[0m\u001b[1;33m=\u001b[0m\u001b[0mself\u001b[0m\u001b[1;33m.\u001b[0m\u001b[0mclasses_\u001b[0m\u001b[1;33m,\u001b[0m \u001b[0mencode\u001b[0m\u001b[1;33m=\u001b[0m\u001b[1;32mTrue\u001b[0m\u001b[1;33m)\u001b[0m\u001b[1;33m\u001b[0m\u001b[1;33m\u001b[0m\u001b[0m\n\u001b[0m\u001b[0;32m    278\u001b[0m         \u001b[1;32mreturn\u001b[0m \u001b[0my\u001b[0m\u001b[1;33m\u001b[0m\u001b[1;33m\u001b[0m\u001b[0m\n\u001b[0;32m    279\u001b[0m \u001b[1;33m\u001b[0m\u001b[0m\n",
      "\u001b[1;32m~\\Anaconda3\\lib\\site-packages\\sklearn\\preprocessing\\_label.py\u001b[0m in \u001b[0;36m_encode\u001b[1;34m(values, uniques, encode, check_unknown)\u001b[0m\n\u001b[0;32m    119\u001b[0m         \u001b[1;32mreturn\u001b[0m \u001b[0mres\u001b[0m\u001b[1;33m\u001b[0m\u001b[1;33m\u001b[0m\u001b[0m\n\u001b[0;32m    120\u001b[0m     \u001b[1;32melse\u001b[0m\u001b[1;33m:\u001b[0m\u001b[1;33m\u001b[0m\u001b[1;33m\u001b[0m\u001b[0m\n\u001b[1;32m--> 121\u001b[1;33m         return _encode_numpy(values, uniques, encode,\n\u001b[0m\u001b[0;32m    122\u001b[0m                              check_unknown=check_unknown)\n\u001b[0;32m    123\u001b[0m \u001b[1;33m\u001b[0m\u001b[0m\n",
      "\u001b[1;32m~\\Anaconda3\\lib\\site-packages\\sklearn\\preprocessing\\_label.py\u001b[0m in \u001b[0;36m_encode_numpy\u001b[1;34m(values, uniques, encode, check_unknown)\u001b[0m\n\u001b[0;32m     48\u001b[0m             \u001b[0mdiff\u001b[0m \u001b[1;33m=\u001b[0m \u001b[0m_encode_check_unknown\u001b[0m\u001b[1;33m(\u001b[0m\u001b[0mvalues\u001b[0m\u001b[1;33m,\u001b[0m \u001b[0muniques\u001b[0m\u001b[1;33m)\u001b[0m\u001b[1;33m\u001b[0m\u001b[1;33m\u001b[0m\u001b[0m\n\u001b[0;32m     49\u001b[0m             \u001b[1;32mif\u001b[0m \u001b[0mdiff\u001b[0m\u001b[1;33m:\u001b[0m\u001b[1;33m\u001b[0m\u001b[1;33m\u001b[0m\u001b[0m\n\u001b[1;32m---> 50\u001b[1;33m                 raise ValueError(\"y contains previously unseen labels: %s\"\n\u001b[0m\u001b[0;32m     51\u001b[0m                                  % str(diff))\n\u001b[0;32m     52\u001b[0m         \u001b[0mencoded\u001b[0m \u001b[1;33m=\u001b[0m \u001b[0mnp\u001b[0m\u001b[1;33m.\u001b[0m\u001b[0msearchsorted\u001b[0m\u001b[1;33m(\u001b[0m\u001b[0muniques\u001b[0m\u001b[1;33m,\u001b[0m \u001b[0mvalues\u001b[0m\u001b[1;33m)\u001b[0m\u001b[1;33m\u001b[0m\u001b[1;33m\u001b[0m\u001b[0m\n",
      "\u001b[1;31mValueError\u001b[0m: y contains previously unseen labels: ['small']"
     ]
    }
   ],
   "source": [
    "'''\n",
    "from sklearn import preprocessing as skpp\n",
    "label_encoder = skpp.LabelEncoder() # it knows how to understand word labels,去重并排序\n",
    "\n",
    "# create labels\n",
    "input_classes = ['audi','ford','audi','toyota','ford','bmw']\n",
    "\n",
    "# encode labels 1\n",
    "label_encoder.fit(input_classes)\n",
    "print(\"\\nClass mapping:\\n\")\n",
    "for i,item in enumerate(label_encoder.classes_):\n",
    "    print(item,'-->',i)\n",
    "    \n",
    "\n",
    "# encode labels 2\n",
    "print(\"\\nencode labels : \",list(label_encoder.transform(input_classes)))\n",
    "\n",
    "# decode numeric labels back to words\n",
    "encoded_labels = [2,1,0,3,1]\n",
    "print(\"\\ndecode labels : \",list(label_encoder.inverse_transform(encoded_labels)))\n",
    "'''\n",
    "\n",
    "'''\n",
    "label_encoder = preprocessing.LabelEncoder()\n",
    "label_encoder.fit(input_data)\n",
    "for i,item in enumerate(input_data):\n",
    "    print(i, list(label_encoder.transform(input_data))[i])\n",
    "print(input_data_encoded)\n",
    "'''\n",
    "\n",
    "count = 0\n",
    "input_data = ['vhigh', 'vhigh', '2', '2', 'small', 'low']\n",
    "input_data_encoded = [-1] * len(input_data)\n",
    "\n",
    "for i,item in enumerate(input_data):\n",
    "    if item.isdigit():\n",
    "        input_data_encoded[i] = int(input_data[i])\n",
    "    else:\n",
    "        input_data_encoded[i] = int(label_encoder[count].transform([input_data[i]]))\n",
    "        count += 1\n",
    "\n",
    "print(type(input_data_encoded))\n",
    "input_data_encoded = np.array(input_data_encoded)\n",
    "\n",
    "print(type(input_data_encoded))\n",
    "print(input_data_encoded)\n"
   ]
  },
  {
   "cell_type": "code",
   "execution_count": 16,
   "metadata": {},
   "outputs": [
    {
     "name": "stdout",
     "output_type": "stream",
     "text": [
      "data mapping:\n",
      "2 -> 0\n",
      "low -> 1\n",
      "small -> 2\n",
      "vhigh -> 3\n",
      "[3, 3, 0, 0, 2, 1]\n",
      "[2]\n",
      "output class : small\n"
     ]
    }
   ],
   "source": [
    "input_data = ['vhigh', 'vhigh', '2', '2', 'small', 'low']\n",
    "label=preprocessing.LabelEncoder()\n",
    "label.fit(input_data)\n",
    "print(\"data mapping:\")\n",
    "for i,item in enumerate(label.classes_):\n",
    "    print(item, '->' ,i)\n",
    "\n",
    "label_encoder = []\n",
    "label_encoded = []\n",
    "for i ,item in enumerate(input_data):\n",
    "    label_encoder.append(preprocessing.LabelEncoder())\n",
    "    input_data_encoded[i] = list(label_encoder[-1].fit_transform(input_data))[i]\n",
    "\n",
    "print(input_data_encoded)\n",
    "input_data_encoded = np.array(input_data_encoded).reshape(1,-1)\n",
    "output_class = classifier.predict(input_data_encoded)\n",
    "print(output_class)\n",
    "print(\"output class :\",label_encoder[-1].inverse_transform(output_class)[0])"
   ]
  },
  {
   "cell_type": "code",
   "execution_count": 97,
   "metadata": {},
   "outputs": [
    {
     "name": "stderr",
     "output_type": "stream",
     "text": [
      "C:\\Users\\jichao1.wang\\Anaconda3\\lib\\site-packages\\sklearn\\utils\\validation.py:67: FutureWarning: Pass param_name=n_estimators, param_range=[ 25  50  75 100 125 150 175 200] as keyword args. From version 0.25 passing these as positional arguments will result in an error\n",
      "  warnings.warn(\"Pass {} as keyword args. From version 0.25 \"\n",
      "C:\\Users\\jichao1.wang\\Anaconda3\\lib\\site-packages\\sklearn\\model_selection\\_split.py:670: UserWarning: The least populated class in y has only 1 members, which is less than n_splits=5.\n",
      "  warnings.warn((\"The least populated class in y has only %d\"\n"
     ]
    },
    {
     "name": "stdout",
     "output_type": "stream",
     "text": [
      "\n",
      " Validation Curve\n",
      "\n",
      " Param: n_estimators\n",
      "Training scores:\n",
      " [[0.80680174 0.80824891 0.80752533 0.80694143 0.81127983]\n",
      " [0.79522431 0.80535456 0.81114327 0.81055676 0.81344902]\n",
      " [0.80101302 0.80680174 0.81041968 0.81344902 0.81923355]\n",
      " [0.8024602  0.80680174 0.81186686 0.80911063 0.8076645 ]\n",
      " [0.80028944 0.80463097 0.81186686 0.80911063 0.81561822]\n",
      " [0.80390738 0.80535456 0.81041968 0.80911063 0.81851048]\n",
      " [0.80390738 0.80463097 0.81186686 0.81489516 0.81706435]\n",
      " [0.80390738 0.80680174 0.81186686 0.81344902 0.81706435]]\n",
      "\n",
      " Param: n_estimators\n",
      "Validation scores:\n",
      " [[0.71098266 0.76589595 0.71965318 0.77101449 0.73913043]\n",
      " [0.71098266 0.75433526 0.71965318 0.75942029 0.75652174]\n",
      " [0.71098266 0.72543353 0.71965318 0.75942029 0.74492754]\n",
      " [0.71098266 0.71098266 0.71676301 0.75942029 0.72753623]\n",
      " [0.71098266 0.74566474 0.71965318 0.75942029 0.74202899]\n",
      " [0.71098266 0.74277457 0.71676301 0.75942029 0.75362319]\n",
      " [0.71098266 0.74566474 0.71965318 0.75942029 0.74492754]\n",
      " [0.71098266 0.74855491 0.71676301 0.75942029 0.74782609]]\n"
     ]
    }
   ],
   "source": [
    "# validation curve : operational hyperparameters\n",
    "from sklearn.model_selection import validation_curve\n",
    "\n",
    "classifier = RandomForestClassifier(max_depth=4, random_state=7)\n",
    "parameter_grid = np.linspace(25, 200, 8).astype(int)\n",
    "train_scores, validation_scores = validation_curve(classifier, X, Y, 'n_estimators', parameter_grid, cv=5)\n",
    "print(\"\\nValidation Curve\")\n",
    "print(\"\\nParam: n_estimators\\nTraining scores:\\n\",train_scores)\n",
    "print(\"\\nParam: n_estimators\\nValidation scores:\\n\",validation_scores)\n",
    "\n",
    "# plot the curve\n",
    "import matplotlib.pyplot as plt\n",
    "plt.figure()\n",
    "plt.plot(parameter_grid, 100*np.average(train_scores, axis=1), color='black')\n",
    "plt.title(\"Traning Curve\")\n",
    "plt.xlabel('Number of estimators')\n",
    "plt.ylabel('Accuracy')\n",
    "plt.show()"
   ]
  },
  {
   "cell_type": "code",
   "execution_count": 101,
   "metadata": {},
   "outputs": [
    {
     "name": "stderr",
     "output_type": "stream",
     "text": [
      "C:\\Users\\jichao1.wang\\Anaconda3\\lib\\site-packages\\sklearn\\utils\\validation.py:67: FutureWarning: Pass param_name=max_depth, param_range=[ 2  4  6  8 10] as keyword args. From version 0.25 passing these as positional arguments will result in an error\n",
      "  warnings.warn(\"Pass {} as keyword args. From version 0.25 \"\n",
      "C:\\Users\\jichao1.wang\\Anaconda3\\lib\\site-packages\\sklearn\\model_selection\\_split.py:670: UserWarning: The least populated class in y has only 1 members, which is less than n_splits=5.\n",
      "  warnings.warn((\"The least populated class in y has only %d\"\n"
     ]
    },
    {
     "name": "stdout",
     "output_type": "stream",
     "text": [
      "\n",
      "Validation Curve\n",
      "\n",
      "Param: max_depth\n",
      "Training scores:\n",
      " [[0.71852388 0.70043415 0.70043415 0.69992769 0.69992769]\n",
      " [0.80607815 0.80535456 0.81041968 0.8033261  0.80694143]\n",
      " [0.90520984 0.90955137 0.92329957 0.90166305 0.90744758]\n",
      " [0.97467438 0.96599132 0.97322721 0.97107737 0.96963124]\n",
      " [0.99493488 0.99493488 0.99782923 0.99855387 0.99204628]]\n",
      "\n",
      "Param: max_depth\n",
      "Validation scores:\n",
      " [[0.69942197 0.69942197 0.69942197 0.70144928 0.70144928]\n",
      " [0.71098266 0.76589595 0.71965318 0.75942029 0.72753623]\n",
      " [0.71387283 0.76300578 0.76011561 0.8173913  0.83188406]\n",
      " [0.67919075 0.76589595 0.78901734 0.77971014 0.89855072]\n",
      " [0.64450867 0.79768786 0.78034682 0.8173913  0.87246377]]\n"
     ]
    },
    {
     "data": {
      "image/png": "[encoded data removed]",
      "text/plain": [
       "<Figure size 432x288 with 1 Axes>"
      ]
     },
     "metadata": {
      "needs_background": "light"
     },
     "output_type": "display_data"
    }
   ],
   "source": [
    "classifier = RandomForestClassifier(n_estimators=20, random_state=7)\n",
    "parameter_grid = np.linspace(2, 10, 5).astype(int)\n",
    "train_scores, validation_scores = validation_curve(classifier, X, Y, 'max_depth', parameter_grid, cv=5)\n",
    "print(\"\\nValidation Curve\")\n",
    "print(\"\\nParam: max_depth\\nTraining scores:\\n\",train_scores)\n",
    "print(\"\\nParam: max_depth\\nValidation scores:\\n\",validation_scores)\n",
    "\n",
    "# plot the curve\n",
    "import matplotlib.pyplot as plt\n",
    "plt.figure()\n",
    "plt.plot(parameter_grid, 100*np.average(train_scores, axis=1), color='black')\n",
    "plt.title(\"Traning Curve\")\n",
    "plt.xlabel(\"Maximum depth of the tree\")\n",
    "plt.ylabel('Accuracy')\n",
    "plt.show()"
   ]
  },
  {
   "cell_type": "code",
   "execution_count": 105,
   "metadata": {},
   "outputs": [
    {
     "name": "stderr",
     "output_type": "stream",
     "text": [
      "C:\\Users\\jichao1.wang\\Anaconda3\\lib\\site-packages\\sklearn\\model_selection\\_split.py:670: UserWarning: The least populated class in y has only 1 members, which is less than n_splits=5.\n",
      "  warnings.warn((\"The least populated class in y has only %d\"\n"
     ]
    },
    {
     "name": "stdout",
     "output_type": "stream",
     "text": [
      "\n",
      "Learning Curves\n",
      "\n",
      "Training scores:\n",
      " [[1. 1. 1. 1. 1.]\n",
      " [1. 1. 1. 1. 1.]\n",
      " [1. 1. 1. 1. 1.]\n",
      " [1. 1. 1. 1. 1.]]\n",
      "\n",
      "Validation scores:\n",
      " [[0.69942197 0.69942197 0.69942197 0.70144928 0.70144928]\n",
      " [0.71387283 0.76878613 0.77456647 0.76811594 0.70144928]\n",
      " [0.6734104  0.78612717 0.63583815 0.76811594 0.76811594]\n",
      " [0.71387283 0.75433526 0.78901734 0.75942029 0.76811594]]\n"
     ]
    },
    {
     "data": {
      "image/png": "[encoded data removed]",
      "text/plain": [
       "<Figure size 432x288 with 1 Axes>"
      ]
     },
     "metadata": {
      "needs_background": "light"
     },
     "output_type": "display_data"
    }
   ],
   "source": [
    "# extract learning curve report\n",
    "\n",
    "from sklearn.model_selection import learning_curve\n",
    "classifier = RandomForestClassifier(random_state=7)\n",
    "parameter_grid = np.array([200,500,800,1100])\n",
    "train_sizes,train_scores,validation_scores = learning_curve(classifier,X,Y,train_sizes=parameter_grid, cv=5)\n",
    "\n",
    "print(\"\\nLearning Curves\")\n",
    "print(\"\\nTraining scores:\\n\",train_scores.astype(float))\n",
    "print(\"\\nValidation scores:\\n\",validation_scores)\n",
    "\n",
    "plt.figure()\n",
    "plt.plot(parameter_grid,100*np.average(validation_scores,axis=1),color='black')\n",
    "plt.title(\"Learning Curve\")\n",
    "plt.xlabel('Number of training samples')\n",
    "plt.ylabel('Accuracy')\n",
    "plt.show()"
   ]
  },
  {
   "cell_type": "code",
   "execution_count": null,
   "metadata": {},
   "outputs": [],
   "source": []
  }
 ],
 "metadata": {
  "kernelspec": {
   "display_name": "Python 3",
   "language": "python",
   "name": "python3"
  },
  "language_info": {
   "codemirror_mode": {
    "name": "ipython",
    "version": 3
   },
   "file_extension": ".py",
   "mimetype": "text/x-python",
   "name": "python",
   "nbconvert_exporter": "python",
   "pygments_lexer": "ipython3",
   "version": "3.8.5"
  }
 },
 "nbformat": 4,
 "nbformat_minor": 4
}
