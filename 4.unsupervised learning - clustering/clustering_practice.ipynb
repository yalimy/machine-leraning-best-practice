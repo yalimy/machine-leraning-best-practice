{
 "cells": [
  {
   "cell_type": "code",
   "execution_count": 20,
   "metadata": {},
   "outputs": [
    {
     "name": "stdout",
     "output_type": "stream",
     "text": [
      "-0.06372822487912984\n",
      "[-0.06372822  0.00716989  0.0175249  ...  3.28997477 -0.12267653\n",
      " -0.16727948]\n"
     ]
    },
    {
     "data": {
      "text/plain": [
       "\"\\n# training\\nwith np.errstate(invalid='ignore'):\\n    edge_model.fit(X)\\n\\n_, labels = cluster.affinity_propagation(edge_model.covariance_)\\nnum_labels = labels.max()\\n\\nfor i in range(num_labels + 1):\\n    print('Cluster', i+1, '-->',', '.join(names[labels == i]))\\n\\n\""
      ]
     },
     "execution_count": 20,
     "metadata": {},
     "output_type": "execute_result"
    }
   ],
   "source": [
    "'''\n",
    "利用无监督学习进行股票数据分析：\n",
    "因为不知道股票市场有多少集群，因此需要用一种紧邻传播聚类算法（Affinity Propagation）\n",
    "该算法会找出每个集群中的代表性datapoint，根据相似性度量值，进行聚类\n",
    "\n",
    "本例：试分析特定时间内的股票市场变化，根据股价波动找出公司行为的相似性\n",
    "'''\n",
    "import json\n",
    "import datetime\n",
    "import numpy as np\n",
    "from sklearn import covariance, cluster\n",
    "#from matplotlib.finance import quotes_historical_yahoo_ochl as quotes_yahoo\n",
    "\n",
    "'''\n",
    "symbol_file = 'symbol_map.json'\n",
    "# 加载符号映射信息\n",
    "with open(symbol_file,'r') as f:\n",
    "    symbol_dict = json.loads(f.read())\n",
    "    \n",
    "symbols, names = np.array(list(symbol_dict.items())).T\n",
    "#print(symbol_dict[:5])\n",
    "#print(symbols[:5])\n",
    "#print(names[:5])\n",
    "\n",
    "# 指定要分析的时间段\n",
    "start_time = datetime.datetime(2004,4,5)\n",
    "end_time = datetime.datetime(2007,6, 2)\n",
    "'''\n",
    "\n",
    "# Extract the required values\n",
    "quotes = []\n",
    "with open('yahoofinance-AAPL-20040819-20180120.csv','r') as f:\n",
    "    for line in f.readlines():\n",
    "        quotes.append([x for x in line[:-1].split(',')])\n",
    "        \n",
    "dates = np.array([quote[0] for quote in quotes])\n",
    "\n",
    "opening_quotes = np.array([quote[1] for quote in quotes]).astype(np.float)\n",
    "closing_quotes = np.array([quote[4] for quote in quotes]).astype(np.float)\n",
    "delta_quotes = closing_quotes - opening_quotes\n",
    "\n",
    "# 从相关性中建立协方差模型\n",
    "edge_model = covariance.GraphicalLassoCV()\n",
    "\n",
    "# 使用数据之前，进行数据标准化\n",
    "X = delta_quotes.copy().T\n",
    "X /= X.std(axis=0)\n",
    "print(X[0])\n",
    "X = np.array(X).reshape(1,-1)\n",
    "print(X[0])\n",
    "'''\n",
    "# training\n",
    "with np.errstate(invalid='ignore'):\n",
    "    edge_model.fit(X)\n",
    "\n",
    "_, labels = cluster.affinity_propagation(edge_model.covariance_)\n",
    "num_labels = labels.max()\n",
    "\n",
    "for i in range(num_labels + 1):\n",
    "    print('Cluster', i+1, '-->',', '.join(names[labels == i]))\n",
    "\n",
    "'''"
   ]
  },
  {
   "cell_type": "code",
   "execution_count": 14,
   "metadata": {},
   "outputs": [
    {
     "name": "stdout",
     "output_type": "stream",
     "text": [
      "\n",
      "Number of clusters in input_data : 8\n",
      "\n",
      "Centroids of clusters:\n",
      "Fre\tMil\tGro\tFro\tDet\tDel\n",
      "9632\t4671\t6593\t2570\t2296\t1248\n",
      "40204\t46314\t57584\t5518\t25436\t4241\n",
      "112151\t29627\t18148\t16745\t4948\t8550\n",
      "36847\t43950\t20170\t36534\t239\t47943\n",
      "32717\t16784\t13626\t60869\t1272\t5609\n",
      "22925\t73498\t32114\t987\t20070\t903\n",
      "16117\t46197\t92780\t1026\t40827\t2944\n",
      "8565\t4980\t67298\t131\t38102\t1215\n"
     ]
    },
    {
     "data": {
      "image/png": "[encoded data removed]",
      "text/plain": [
       "<Figure size 432x288 with 1 Axes>"
      ]
     },
     "metadata": {
      "needs_background": "light"
     },
     "output_type": "display_data"
    }
   ],
   "source": [
    "'''\n",
    "建立客户细分模型\n",
    "根据不同类型商品的销售数据，找到数据集群，从而为客户提供最优的销售和分销策略\n",
    "'''\n",
    "import csv\n",
    "import numpy as np\n",
    "from sklearn import cluster, covariance, manifold\n",
    "from sklearn.cluster import MeanShift, estimate_bandwidth\n",
    "import matplotlib.pyplot as plt\n",
    "\n",
    "# load data\n",
    "input_file = 'wholesale.csv'\n",
    "file_reader = csv.reader(open(input_file,'r'),delimiter=',')\n",
    "X = []\n",
    "\n",
    "for count, row in enumerate(file_reader):\n",
    "    if not count: # 第一行\n",
    "        names = row[2:]\n",
    "        continue\n",
    "    X.append([float(x) for x in row[2:]])\n",
    "\n",
    "X = np.array(X)\n",
    "\n",
    "# 建立 均值漂移聚类模型\n",
    "# 估计带宽参数\n",
    "bandwidth = estimate_bandwidth(X, quantile=0.8, n_samples=len(X))\n",
    "\n",
    "# 均值聚类函数\n",
    "meanshift_estimator = MeanShift(bandwidth=bandwidth, bin_seeding=True)\n",
    "meanshift_estimator.fit(X)\n",
    "labels = meanshift_estimator.labels_\n",
    "centroids = meanshift_estimator.cluster_centers_\n",
    "num_clusters = len(np.unique(labels))\n",
    "\n",
    "print(\"\\nNumber of clusters in input_data :\",num_clusters)\n",
    "\n",
    "# 打印集群中心\n",
    "print(\"\\nCentroids of clusters:\")\n",
    "print('\\t'.join([name[:3] for name in names]))\n",
    "for centroid in centroids:\n",
    "    print(\"\\t\".join([str(int(x)) for x in centroid]))\n",
    "    \n",
    "# vitualization\n",
    "centroids_milk_groceries = centroids[:,1:3]\n",
    "# 用 centroids_milk_groceries 中的坐标画出中心点\n",
    "plt.figure()\n",
    "plt.scatter(centroids_milk_groceries[:,0], centroids_milk_groceries[:,1], s=100, edgecolor='k',facecolor='none')\n",
    "offset = 0.2\n",
    "plt.xlim(centroids_milk_groceries[:,0].min() - offset * centroids_milk_groceries[:,0].ptp(),\n",
    "        centroids_milk_groceries[:,0].max() + offset * centroids_milk_groceries[:,0].ptp())\n",
    "plt.ylim(centroids_milk_groceries[:,1].min() - offset * centroids_milk_groceries[:,1].ptp(),\n",
    "        centroids_milk_groceries[:,1].max() + offset * centroids_milk_groceries[:,1].ptp())\n",
    "plt.title('Centroids of clusters for milk and groceries')\n",
    "plt.show()"
   ]
  },
  {
   "cell_type": "code",
   "execution_count": null,
   "metadata": {},
   "outputs": [],
   "source": []
  }
 ],
 "metadata": {
  "kernelspec": {
   "display_name": "Python 3",
   "language": "python",
   "name": "python3"
  },
  "language_info": {
   "codemirror_mode": {
    "name": "ipython",
    "version": 3
   },
   "file_extension": ".py",
   "mimetype": "text/x-python",
   "name": "python",
   "nbconvert_exporter": "python",
   "pygments_lexer": "ipython3",
   "version": "3.8.5"
  }
 },
 "nbformat": 4,
 "nbformat_minor": 4
}
